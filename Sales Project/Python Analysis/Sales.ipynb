{
 "cells": [
  {
   "cell_type": "markdown",
   "id": "572014d4",
   "metadata": {},
   "source": [
    "# Data anaylsis using Pandas"
   ]
  },
  {
   "cell_type": "markdown",
   "id": "92df87fd",
   "metadata": {},
   "source": [
    "## Import necessary libraries"
   ]
  },
  {
   "cell_type": "code",
   "execution_count": 47,
   "id": "d099b6d8",
   "metadata": {},
   "outputs": [],
   "source": [
    "import pandas as pd\n",
    "import matplotlib.pyplot as plt\n",
    "import seaborn as sns"
   ]
  },
  {
   "cell_type": "markdown",
   "id": "c5dd1b5a",
   "metadata": {},
   "source": [
    "## Read Files"
   ]
  },
  {
   "cell_type": "code",
   "execution_count": 4,
   "id": "207d89c6",
   "metadata": {},
   "outputs": [],
   "source": [
    "Customers = pd.read_csv('Customers.csv', encoding='latin1' , sep=';')\n",
    "Orders = pd.read_csv('Orders.csv', encoding='latin1' , sep=';')\n",
    "Location = pd.read_csv('Location.csv', encoding='latin1' , sep=';')\n",
    "Products = pd.read_csv('Products.csv', encoding='latin1' , sep=';')"
   ]
  },
  {
   "cell_type": "markdown",
   "id": "3416f1fd",
   "metadata": {},
   "source": [
    "## Check first 5 rows from every table"
   ]
  },
  {
   "cell_type": "code",
   "execution_count": 5,
   "id": "b360ba71",
   "metadata": {},
   "outputs": [
    {
     "data": {
      "text/html": [
       "<div>\n",
       "<style scoped>\n",
       "    .dataframe tbody tr th:only-of-type {\n",
       "        vertical-align: middle;\n",
       "    }\n",
       "\n",
       "    .dataframe tbody tr th {\n",
       "        vertical-align: top;\n",
       "    }\n",
       "\n",
       "    .dataframe thead th {\n",
       "        text-align: right;\n",
       "    }\n",
       "</style>\n",
       "<table border=\"1\" class=\"dataframe\">\n",
       "  <thead>\n",
       "    <tr style=\"text-align: right;\">\n",
       "      <th></th>\n",
       "      <th>Customer ID</th>\n",
       "      <th>Customer Name</th>\n",
       "    </tr>\n",
       "  </thead>\n",
       "  <tbody>\n",
       "    <tr>\n",
       "      <th>0</th>\n",
       "      <td>AA-10315</td>\n",
       "      <td>Alex Avila</td>\n",
       "    </tr>\n",
       "    <tr>\n",
       "      <th>1</th>\n",
       "      <td>AA-10375</td>\n",
       "      <td>Allen Armold</td>\n",
       "    </tr>\n",
       "    <tr>\n",
       "      <th>2</th>\n",
       "      <td>AA-10480</td>\n",
       "      <td>Andrew Allen</td>\n",
       "    </tr>\n",
       "    <tr>\n",
       "      <th>3</th>\n",
       "      <td>AA-10645</td>\n",
       "      <td>Anna Andreadi</td>\n",
       "    </tr>\n",
       "    <tr>\n",
       "      <th>4</th>\n",
       "      <td>AB-10015</td>\n",
       "      <td>Aaron Bergman</td>\n",
       "    </tr>\n",
       "  </tbody>\n",
       "</table>\n",
       "</div>"
      ],
      "text/plain": [
       "  Customer ID  Customer Name\n",
       "0    AA-10315     Alex Avila\n",
       "1    AA-10375   Allen Armold\n",
       "2    AA-10480   Andrew Allen\n",
       "3    AA-10645  Anna Andreadi\n",
       "4    AB-10015  Aaron Bergman"
      ]
     },
     "execution_count": 5,
     "metadata": {},
     "output_type": "execute_result"
    }
   ],
   "source": [
    "Customers.head()"
   ]
  },
  {
   "cell_type": "code",
   "execution_count": 6,
   "id": "8343e88d",
   "metadata": {
    "scrolled": true
   },
   "outputs": [
    {
     "data": {
      "text/html": [
       "<div>\n",
       "<style scoped>\n",
       "    .dataframe tbody tr th:only-of-type {\n",
       "        vertical-align: middle;\n",
       "    }\n",
       "\n",
       "    .dataframe tbody tr th {\n",
       "        vertical-align: top;\n",
       "    }\n",
       "\n",
       "    .dataframe thead th {\n",
       "        text-align: right;\n",
       "    }\n",
       "</style>\n",
       "<table border=\"1\" class=\"dataframe\">\n",
       "  <thead>\n",
       "    <tr style=\"text-align: right;\">\n",
       "      <th></th>\n",
       "      <th>Row ID</th>\n",
       "      <th>Order ID</th>\n",
       "      <th>Order Date</th>\n",
       "      <th>Ship Date</th>\n",
       "      <th>Ship Mode</th>\n",
       "      <th>Customer ID</th>\n",
       "      <th>Segment</th>\n",
       "      <th>Postal Code</th>\n",
       "      <th>Product ID</th>\n",
       "      <th>Sales</th>\n",
       "      <th>Quantity</th>\n",
       "      <th>Discount</th>\n",
       "      <th>Profit</th>\n",
       "    </tr>\n",
       "  </thead>\n",
       "  <tbody>\n",
       "    <tr>\n",
       "      <th>0</th>\n",
       "      <td>1</td>\n",
       "      <td>CA-2022-152156</td>\n",
       "      <td>08/11/2022</td>\n",
       "      <td>11/11/2022</td>\n",
       "      <td>Second Class</td>\n",
       "      <td>CG-12520</td>\n",
       "      <td>Consumer</td>\n",
       "      <td>42420</td>\n",
       "      <td>FUR-BO-10001798</td>\n",
       "      <td>261.9600</td>\n",
       "      <td>2</td>\n",
       "      <td>0.00</td>\n",
       "      <td>41.9136</td>\n",
       "    </tr>\n",
       "    <tr>\n",
       "      <th>1</th>\n",
       "      <td>2</td>\n",
       "      <td>CA-2022-152156</td>\n",
       "      <td>08/11/2022</td>\n",
       "      <td>11/11/2022</td>\n",
       "      <td>Second Class</td>\n",
       "      <td>CG-12520</td>\n",
       "      <td>Consumer</td>\n",
       "      <td>42420</td>\n",
       "      <td>FUR-CH-10000454</td>\n",
       "      <td>731.9400</td>\n",
       "      <td>3</td>\n",
       "      <td>0.00</td>\n",
       "      <td>219.5820</td>\n",
       "    </tr>\n",
       "    <tr>\n",
       "      <th>2</th>\n",
       "      <td>3</td>\n",
       "      <td>CA-2022-138688</td>\n",
       "      <td>12/06/2022</td>\n",
       "      <td>16/06/2022</td>\n",
       "      <td>Second Class</td>\n",
       "      <td>DV-13045</td>\n",
       "      <td>Corporate</td>\n",
       "      <td>90036</td>\n",
       "      <td>OFF-LA-10000240</td>\n",
       "      <td>14.6200</td>\n",
       "      <td>2</td>\n",
       "      <td>0.00</td>\n",
       "      <td>6.8714</td>\n",
       "    </tr>\n",
       "    <tr>\n",
       "      <th>3</th>\n",
       "      <td>4</td>\n",
       "      <td>US-2021-108966</td>\n",
       "      <td>11/10/2021</td>\n",
       "      <td>18/10/2021</td>\n",
       "      <td>Standard Class</td>\n",
       "      <td>SO-20335</td>\n",
       "      <td>Consumer</td>\n",
       "      <td>33311</td>\n",
       "      <td>FUR-TA-10000577</td>\n",
       "      <td>957.5775</td>\n",
       "      <td>5</td>\n",
       "      <td>0.45</td>\n",
       "      <td>-383.0310</td>\n",
       "    </tr>\n",
       "    <tr>\n",
       "      <th>4</th>\n",
       "      <td>5</td>\n",
       "      <td>US-2021-108966</td>\n",
       "      <td>11/10/2021</td>\n",
       "      <td>18/10/2021</td>\n",
       "      <td>Standard Class</td>\n",
       "      <td>SO-20335</td>\n",
       "      <td>Consumer</td>\n",
       "      <td>33311</td>\n",
       "      <td>OFF-ST-10000760</td>\n",
       "      <td>22.3680</td>\n",
       "      <td>2</td>\n",
       "      <td>0.20</td>\n",
       "      <td>2.5164</td>\n",
       "    </tr>\n",
       "  </tbody>\n",
       "</table>\n",
       "</div>"
      ],
      "text/plain": [
       "   Row ID        Order ID  Order Date   Ship Date       Ship Mode Customer ID  \\\n",
       "0       1  CA-2022-152156  08/11/2022  11/11/2022    Second Class    CG-12520   \n",
       "1       2  CA-2022-152156  08/11/2022  11/11/2022    Second Class    CG-12520   \n",
       "2       3  CA-2022-138688  12/06/2022  16/06/2022    Second Class    DV-13045   \n",
       "3       4  US-2021-108966  11/10/2021  18/10/2021  Standard Class    SO-20335   \n",
       "4       5  US-2021-108966  11/10/2021  18/10/2021  Standard Class    SO-20335   \n",
       "\n",
       "     Segment  Postal Code       Product ID     Sales  Quantity  Discount  \\\n",
       "0   Consumer        42420  FUR-BO-10001798  261.9600         2      0.00   \n",
       "1   Consumer        42420  FUR-CH-10000454  731.9400         3      0.00   \n",
       "2  Corporate        90036  OFF-LA-10000240   14.6200         2      0.00   \n",
       "3   Consumer        33311  FUR-TA-10000577  957.5775         5      0.45   \n",
       "4   Consumer        33311  OFF-ST-10000760   22.3680         2      0.20   \n",
       "\n",
       "     Profit  \n",
       "0   41.9136  \n",
       "1  219.5820  \n",
       "2    6.8714  \n",
       "3 -383.0310  \n",
       "4    2.5164  "
      ]
     },
     "execution_count": 6,
     "metadata": {},
     "output_type": "execute_result"
    }
   ],
   "source": [
    "Orders.head()"
   ]
  },
  {
   "cell_type": "code",
   "execution_count": 7,
   "id": "af4cfe0b",
   "metadata": {
    "scrolled": true
   },
   "outputs": [
    {
     "data": {
      "text/html": [
       "<div>\n",
       "<style scoped>\n",
       "    .dataframe tbody tr th:only-of-type {\n",
       "        vertical-align: middle;\n",
       "    }\n",
       "\n",
       "    .dataframe tbody tr th {\n",
       "        vertical-align: top;\n",
       "    }\n",
       "\n",
       "    .dataframe thead th {\n",
       "        text-align: right;\n",
       "    }\n",
       "</style>\n",
       "<table border=\"1\" class=\"dataframe\">\n",
       "  <thead>\n",
       "    <tr style=\"text-align: right;\">\n",
       "      <th></th>\n",
       "      <th>Postal Code</th>\n",
       "      <th>City</th>\n",
       "      <th>State</th>\n",
       "      <th>Region</th>\n",
       "      <th>Country/Region</th>\n",
       "    </tr>\n",
       "  </thead>\n",
       "  <tbody>\n",
       "    <tr>\n",
       "      <th>0</th>\n",
       "      <td>76106.0</td>\n",
       "      <td>Fort Worth</td>\n",
       "      <td>Texas</td>\n",
       "      <td>Central</td>\n",
       "      <td>United States</td>\n",
       "    </tr>\n",
       "    <tr>\n",
       "      <th>1</th>\n",
       "      <td>53711.0</td>\n",
       "      <td>Madison</td>\n",
       "      <td>Wisconsin</td>\n",
       "      <td>Central</td>\n",
       "      <td>United States</td>\n",
       "    </tr>\n",
       "    <tr>\n",
       "      <th>2</th>\n",
       "      <td>68025.0</td>\n",
       "      <td>Fremont</td>\n",
       "      <td>Nebraska</td>\n",
       "      <td>Central</td>\n",
       "      <td>United States</td>\n",
       "    </tr>\n",
       "    <tr>\n",
       "      <th>3</th>\n",
       "      <td>77095.0</td>\n",
       "      <td>Houston</td>\n",
       "      <td>Texas</td>\n",
       "      <td>Central</td>\n",
       "      <td>United States</td>\n",
       "    </tr>\n",
       "    <tr>\n",
       "      <th>4</th>\n",
       "      <td>75080.0</td>\n",
       "      <td>Richardson</td>\n",
       "      <td>Texas</td>\n",
       "      <td>Central</td>\n",
       "      <td>United States</td>\n",
       "    </tr>\n",
       "  </tbody>\n",
       "</table>\n",
       "</div>"
      ],
      "text/plain": [
       "   Postal Code        City      State   Region Country/Region\n",
       "0      76106.0  Fort Worth      Texas  Central  United States\n",
       "1      53711.0     Madison  Wisconsin  Central  United States\n",
       "2      68025.0     Fremont   Nebraska  Central  United States\n",
       "3      77095.0     Houston      Texas  Central  United States\n",
       "4      75080.0  Richardson      Texas  Central  United States"
      ]
     },
     "execution_count": 7,
     "metadata": {},
     "output_type": "execute_result"
    }
   ],
   "source": [
    "Location.head()"
   ]
  },
  {
   "cell_type": "code",
   "execution_count": 8,
   "id": "8ed2827c",
   "metadata": {
    "scrolled": true
   },
   "outputs": [
    {
     "data": {
      "text/html": [
       "<div>\n",
       "<style scoped>\n",
       "    .dataframe tbody tr th:only-of-type {\n",
       "        vertical-align: middle;\n",
       "    }\n",
       "\n",
       "    .dataframe tbody tr th {\n",
       "        vertical-align: top;\n",
       "    }\n",
       "\n",
       "    .dataframe thead th {\n",
       "        text-align: right;\n",
       "    }\n",
       "</style>\n",
       "<table border=\"1\" class=\"dataframe\">\n",
       "  <thead>\n",
       "    <tr style=\"text-align: right;\">\n",
       "      <th></th>\n",
       "      <th>Product ID</th>\n",
       "      <th>Category</th>\n",
       "      <th>Sub-Category</th>\n",
       "      <th>Product Name</th>\n",
       "    </tr>\n",
       "  </thead>\n",
       "  <tbody>\n",
       "    <tr>\n",
       "      <th>0</th>\n",
       "      <td>FUR-BO-10000112</td>\n",
       "      <td>Furniture</td>\n",
       "      <td>Bookcases</td>\n",
       "      <td>Bush Birmingham Collection Bookcase, Dark Cherry</td>\n",
       "    </tr>\n",
       "    <tr>\n",
       "      <th>1</th>\n",
       "      <td>FUR-BO-10000330</td>\n",
       "      <td>Furniture</td>\n",
       "      <td>Bookcases</td>\n",
       "      <td>Sauder Camden County Barrister Bookcase, Plank...</td>\n",
       "    </tr>\n",
       "    <tr>\n",
       "      <th>2</th>\n",
       "      <td>FUR-BO-10000362</td>\n",
       "      <td>Furniture</td>\n",
       "      <td>Bookcases</td>\n",
       "      <td>Sauder Inglewood Library Bookcases</td>\n",
       "    </tr>\n",
       "    <tr>\n",
       "      <th>3</th>\n",
       "      <td>FUR-BO-10000468</td>\n",
       "      <td>Furniture</td>\n",
       "      <td>Bookcases</td>\n",
       "      <td>O'Sullivan 2-Shelf Heavy-Duty Bookcases</td>\n",
       "    </tr>\n",
       "    <tr>\n",
       "      <th>4</th>\n",
       "      <td>FUR-BO-10000711</td>\n",
       "      <td>Furniture</td>\n",
       "      <td>Bookcases</td>\n",
       "      <td>Hon Metal Bookcases, Gray</td>\n",
       "    </tr>\n",
       "  </tbody>\n",
       "</table>\n",
       "</div>"
      ],
      "text/plain": [
       "        Product ID   Category Sub-Category  \\\n",
       "0  FUR-BO-10000112  Furniture    Bookcases   \n",
       "1  FUR-BO-10000330  Furniture    Bookcases   \n",
       "2  FUR-BO-10000362  Furniture    Bookcases   \n",
       "3  FUR-BO-10000468  Furniture    Bookcases   \n",
       "4  FUR-BO-10000711  Furniture    Bookcases   \n",
       "\n",
       "                                        Product Name  \n",
       "0   Bush Birmingham Collection Bookcase, Dark Cherry  \n",
       "1  Sauder Camden County Barrister Bookcase, Plank...  \n",
       "2                 Sauder Inglewood Library Bookcases  \n",
       "3            O'Sullivan 2-Shelf Heavy-Duty Bookcases  \n",
       "4                          Hon Metal Bookcases, Gray  "
      ]
     },
     "execution_count": 8,
     "metadata": {},
     "output_type": "execute_result"
    }
   ],
   "source": [
    "Products.head()"
   ]
  },
  {
   "cell_type": "markdown",
   "id": "b62bd0d3",
   "metadata": {},
   "source": [
    "## Merge Data"
   ]
  },
  {
   "cell_type": "code",
   "execution_count": 10,
   "id": "2335e2a1",
   "metadata": {},
   "outputs": [],
   "source": [
    "df = Orders.merge(Customers, on='Customer ID', how='outer') \\\n",
    "           .merge(Location, on='Postal Code', how='outer') \\\n",
    "           .merge(Products, on='Product ID', how='outer')"
   ]
  },
  {
   "cell_type": "markdown",
   "id": "17ea8a5c",
   "metadata": {},
   "source": [
    "## Check table after merging"
   ]
  },
  {
   "cell_type": "code",
   "execution_count": 11,
   "id": "20190f23",
   "metadata": {
    "scrolled": true
   },
   "outputs": [
    {
     "data": {
      "text/html": [
       "<div>\n",
       "<style scoped>\n",
       "    .dataframe tbody tr th:only-of-type {\n",
       "        vertical-align: middle;\n",
       "    }\n",
       "\n",
       "    .dataframe tbody tr th {\n",
       "        vertical-align: top;\n",
       "    }\n",
       "\n",
       "    .dataframe thead th {\n",
       "        text-align: right;\n",
       "    }\n",
       "</style>\n",
       "<table border=\"1\" class=\"dataframe\">\n",
       "  <thead>\n",
       "    <tr style=\"text-align: right;\">\n",
       "      <th></th>\n",
       "      <th>Row ID</th>\n",
       "      <th>Order ID</th>\n",
       "      <th>Order Date</th>\n",
       "      <th>Ship Date</th>\n",
       "      <th>Ship Mode</th>\n",
       "      <th>Customer ID</th>\n",
       "      <th>Segment</th>\n",
       "      <th>Postal Code</th>\n",
       "      <th>Product ID</th>\n",
       "      <th>Sales</th>\n",
       "      <th>...</th>\n",
       "      <th>Discount</th>\n",
       "      <th>Profit</th>\n",
       "      <th>Customer Name</th>\n",
       "      <th>City</th>\n",
       "      <th>State</th>\n",
       "      <th>Region</th>\n",
       "      <th>Country/Region</th>\n",
       "      <th>Category</th>\n",
       "      <th>Sub-Category</th>\n",
       "      <th>Product Name</th>\n",
       "    </tr>\n",
       "  </thead>\n",
       "  <tbody>\n",
       "    <tr>\n",
       "      <th>0</th>\n",
       "      <td>1.0</td>\n",
       "      <td>CA-2022-152156</td>\n",
       "      <td>08/11/2022</td>\n",
       "      <td>11/11/2022</td>\n",
       "      <td>Second Class</td>\n",
       "      <td>CG-12520</td>\n",
       "      <td>Consumer</td>\n",
       "      <td>42420.0</td>\n",
       "      <td>FUR-BO-10001798</td>\n",
       "      <td>261.960</td>\n",
       "      <td>...</td>\n",
       "      <td>0.00</td>\n",
       "      <td>41.9136</td>\n",
       "      <td>Claire Gute</td>\n",
       "      <td>Henderson</td>\n",
       "      <td>Kentucky</td>\n",
       "      <td>South</td>\n",
       "      <td>United States</td>\n",
       "      <td>Furniture</td>\n",
       "      <td>Bookcases</td>\n",
       "      <td>Bush Somerset Collection Bookcase</td>\n",
       "    </tr>\n",
       "    <tr>\n",
       "      <th>1</th>\n",
       "      <td>8635.0</td>\n",
       "      <td>CA-2023-159793</td>\n",
       "      <td>25/08/2023</td>\n",
       "      <td>29/08/2023</td>\n",
       "      <td>Standard Class</td>\n",
       "      <td>SV-20365</td>\n",
       "      <td>Consumer</td>\n",
       "      <td>19140.0</td>\n",
       "      <td>FUR-BO-10001798</td>\n",
       "      <td>130.980</td>\n",
       "      <td>...</td>\n",
       "      <td>0.50</td>\n",
       "      <td>-89.0664</td>\n",
       "      <td>Seth Vernon</td>\n",
       "      <td>Philadelphia</td>\n",
       "      <td>Pennsylvania</td>\n",
       "      <td>East</td>\n",
       "      <td>United States</td>\n",
       "      <td>Furniture</td>\n",
       "      <td>Bookcases</td>\n",
       "      <td>Bush Somerset Collection Bookcase</td>\n",
       "    </tr>\n",
       "    <tr>\n",
       "      <th>2</th>\n",
       "      <td>5400.0</td>\n",
       "      <td>CA-2022-117681</td>\n",
       "      <td>09/04/2022</td>\n",
       "      <td>14/04/2022</td>\n",
       "      <td>Standard Class</td>\n",
       "      <td>HF-14995</td>\n",
       "      <td>Consumer</td>\n",
       "      <td>90004.0</td>\n",
       "      <td>FUR-BO-10001798</td>\n",
       "      <td>556.665</td>\n",
       "      <td>...</td>\n",
       "      <td>0.15</td>\n",
       "      <td>6.5490</td>\n",
       "      <td>Herbert Flentye</td>\n",
       "      <td>Los Angeles</td>\n",
       "      <td>California</td>\n",
       "      <td>West</td>\n",
       "      <td>United States</td>\n",
       "      <td>Furniture</td>\n",
       "      <td>Bookcases</td>\n",
       "      <td>Bush Somerset Collection Bookcase</td>\n",
       "    </tr>\n",
       "    <tr>\n",
       "      <th>3</th>\n",
       "      <td>9335.0</td>\n",
       "      <td>CA-2023-110198</td>\n",
       "      <td>01/05/2023</td>\n",
       "      <td>02/05/2023</td>\n",
       "      <td>First Class</td>\n",
       "      <td>AG-10900</td>\n",
       "      <td>Consumer</td>\n",
       "      <td>33065.0</td>\n",
       "      <td>FUR-BO-10001798</td>\n",
       "      <td>314.352</td>\n",
       "      <td>...</td>\n",
       "      <td>0.20</td>\n",
       "      <td>-15.7176</td>\n",
       "      <td>Arthur Gainer</td>\n",
       "      <td>Coral Springs</td>\n",
       "      <td>Florida</td>\n",
       "      <td>South</td>\n",
       "      <td>United States</td>\n",
       "      <td>Furniture</td>\n",
       "      <td>Bookcases</td>\n",
       "      <td>Bush Somerset Collection Bookcase</td>\n",
       "    </tr>\n",
       "    <tr>\n",
       "      <th>4</th>\n",
       "      <td>2.0</td>\n",
       "      <td>CA-2022-152156</td>\n",
       "      <td>08/11/2022</td>\n",
       "      <td>11/11/2022</td>\n",
       "      <td>Second Class</td>\n",
       "      <td>CG-12520</td>\n",
       "      <td>Consumer</td>\n",
       "      <td>42420.0</td>\n",
       "      <td>FUR-CH-10000454</td>\n",
       "      <td>731.940</td>\n",
       "      <td>...</td>\n",
       "      <td>0.00</td>\n",
       "      <td>219.5820</td>\n",
       "      <td>Claire Gute</td>\n",
       "      <td>Henderson</td>\n",
       "      <td>Kentucky</td>\n",
       "      <td>South</td>\n",
       "      <td>United States</td>\n",
       "      <td>Furniture</td>\n",
       "      <td>Chairs</td>\n",
       "      <td>Hon Deluxe Fabric Upholstered Stacking Chairs,...</td>\n",
       "    </tr>\n",
       "    <tr>\n",
       "      <th>...</th>\n",
       "      <td>...</td>\n",
       "      <td>...</td>\n",
       "      <td>...</td>\n",
       "      <td>...</td>\n",
       "      <td>...</td>\n",
       "      <td>...</td>\n",
       "      <td>...</td>\n",
       "      <td>...</td>\n",
       "      <td>...</td>\n",
       "      <td>...</td>\n",
       "      <td>...</td>\n",
       "      <td>...</td>\n",
       "      <td>...</td>\n",
       "      <td>...</td>\n",
       "      <td>...</td>\n",
       "      <td>...</td>\n",
       "      <td>...</td>\n",
       "      <td>...</td>\n",
       "      <td>...</td>\n",
       "      <td>...</td>\n",
       "      <td>...</td>\n",
       "    </tr>\n",
       "    <tr>\n",
       "      <th>10368</th>\n",
       "      <td>1023.0</td>\n",
       "      <td>CA-2021-124450</td>\n",
       "      <td>27/04/2021</td>\n",
       "      <td>03/05/2021</td>\n",
       "      <td>Standard Class</td>\n",
       "      <td>GT-14710</td>\n",
       "      <td>Consumer</td>\n",
       "      <td>20016.0</td>\n",
       "      <td>TEC-MA-10004212</td>\n",
       "      <td>1379.920</td>\n",
       "      <td>...</td>\n",
       "      <td>0.00</td>\n",
       "      <td>648.5624</td>\n",
       "      <td>Greg Tran</td>\n",
       "      <td>Washington</td>\n",
       "      <td>District of Columbia</td>\n",
       "      <td>East</td>\n",
       "      <td>United States</td>\n",
       "      <td>Technology</td>\n",
       "      <td>Machines</td>\n",
       "      <td>Cisco SPA525G2 5-Line IP Phone</td>\n",
       "    </tr>\n",
       "    <tr>\n",
       "      <th>10369</th>\n",
       "      <td>1455.0</td>\n",
       "      <td>CA-2022-133711</td>\n",
       "      <td>26/11/2022</td>\n",
       "      <td>29/11/2022</td>\n",
       "      <td>First Class</td>\n",
       "      <td>MC-17425</td>\n",
       "      <td>Corporate</td>\n",
       "      <td>36608.0</td>\n",
       "      <td>TEC-MA-10000010</td>\n",
       "      <td>3040.000</td>\n",
       "      <td>...</td>\n",
       "      <td>0.00</td>\n",
       "      <td>1459.2000</td>\n",
       "      <td>Mark Cousins</td>\n",
       "      <td>Mobile</td>\n",
       "      <td>Alabama</td>\n",
       "      <td>South</td>\n",
       "      <td>United States</td>\n",
       "      <td>Technology</td>\n",
       "      <td>Machines</td>\n",
       "      <td>Hewlett-Packard Deskjet 3050a All-in-One Color...</td>\n",
       "    </tr>\n",
       "    <tr>\n",
       "      <th>10370</th>\n",
       "      <td>2267.0</td>\n",
       "      <td>CA-2023-149146</td>\n",
       "      <td>12/10/2023</td>\n",
       "      <td>12/10/2023</td>\n",
       "      <td>Same Day</td>\n",
       "      <td>SM-20320</td>\n",
       "      <td>Home Office</td>\n",
       "      <td>28110.0</td>\n",
       "      <td>OFF-PA-10003919</td>\n",
       "      <td>7.968</td>\n",
       "      <td>...</td>\n",
       "      <td>0.20</td>\n",
       "      <td>2.6892</td>\n",
       "      <td>Sean Miller</td>\n",
       "      <td>Monroe</td>\n",
       "      <td>North Carolina</td>\n",
       "      <td>South</td>\n",
       "      <td>United States</td>\n",
       "      <td>Office Supplies</td>\n",
       "      <td>Paper</td>\n",
       "      <td>Xerox 1989</td>\n",
       "    </tr>\n",
       "    <tr>\n",
       "      <th>10371</th>\n",
       "      <td>7642.0</td>\n",
       "      <td>US-2022-157490</td>\n",
       "      <td>06/10/2022</td>\n",
       "      <td>07/10/2022</td>\n",
       "      <td>First Class</td>\n",
       "      <td>LB-16795</td>\n",
       "      <td>Home Office</td>\n",
       "      <td>81001.0</td>\n",
       "      <td>TEC-MA-10001695</td>\n",
       "      <td>703.710</td>\n",
       "      <td>...</td>\n",
       "      <td>0.70</td>\n",
       "      <td>-938.2800</td>\n",
       "      <td>Laurel Beltran</td>\n",
       "      <td>Pueblo</td>\n",
       "      <td>Colorado</td>\n",
       "      <td>West</td>\n",
       "      <td>United States</td>\n",
       "      <td>Technology</td>\n",
       "      <td>Machines</td>\n",
       "      <td>Zebra GK420t Direct Thermal/Thermal Transfer P...</td>\n",
       "    </tr>\n",
       "    <tr>\n",
       "      <th>10372</th>\n",
       "      <td>NaN</td>\n",
       "      <td>NaN</td>\n",
       "      <td>NaN</td>\n",
       "      <td>NaN</td>\n",
       "      <td>NaN</td>\n",
       "      <td>NaN</td>\n",
       "      <td>NaN</td>\n",
       "      <td>NaN</td>\n",
       "      <td>NaN</td>\n",
       "      <td>NaN</td>\n",
       "      <td>...</td>\n",
       "      <td>NaN</td>\n",
       "      <td>NaN</td>\n",
       "      <td>NaN</td>\n",
       "      <td>Burlington</td>\n",
       "      <td>Vermont</td>\n",
       "      <td>East</td>\n",
       "      <td>United States</td>\n",
       "      <td>NaN</td>\n",
       "      <td>NaN</td>\n",
       "      <td>NaN</td>\n",
       "    </tr>\n",
       "  </tbody>\n",
       "</table>\n",
       "<p>10373 rows × 21 columns</p>\n",
       "</div>"
      ],
      "text/plain": [
       "       Row ID        Order ID  Order Date   Ship Date       Ship Mode  \\\n",
       "0         1.0  CA-2022-152156  08/11/2022  11/11/2022    Second Class   \n",
       "1      8635.0  CA-2023-159793  25/08/2023  29/08/2023  Standard Class   \n",
       "2      5400.0  CA-2022-117681  09/04/2022  14/04/2022  Standard Class   \n",
       "3      9335.0  CA-2023-110198  01/05/2023  02/05/2023     First Class   \n",
       "4         2.0  CA-2022-152156  08/11/2022  11/11/2022    Second Class   \n",
       "...       ...             ...         ...         ...             ...   \n",
       "10368  1023.0  CA-2021-124450  27/04/2021  03/05/2021  Standard Class   \n",
       "10369  1455.0  CA-2022-133711  26/11/2022  29/11/2022     First Class   \n",
       "10370  2267.0  CA-2023-149146  12/10/2023  12/10/2023        Same Day   \n",
       "10371  7642.0  US-2022-157490  06/10/2022  07/10/2022     First Class   \n",
       "10372     NaN             NaN         NaN         NaN             NaN   \n",
       "\n",
       "      Customer ID      Segment  Postal Code       Product ID     Sales  ...  \\\n",
       "0        CG-12520     Consumer      42420.0  FUR-BO-10001798   261.960  ...   \n",
       "1        SV-20365     Consumer      19140.0  FUR-BO-10001798   130.980  ...   \n",
       "2        HF-14995     Consumer      90004.0  FUR-BO-10001798   556.665  ...   \n",
       "3        AG-10900     Consumer      33065.0  FUR-BO-10001798   314.352  ...   \n",
       "4        CG-12520     Consumer      42420.0  FUR-CH-10000454   731.940  ...   \n",
       "...           ...          ...          ...              ...       ...  ...   \n",
       "10368    GT-14710     Consumer      20016.0  TEC-MA-10004212  1379.920  ...   \n",
       "10369    MC-17425    Corporate      36608.0  TEC-MA-10000010  3040.000  ...   \n",
       "10370    SM-20320  Home Office      28110.0  OFF-PA-10003919     7.968  ...   \n",
       "10371    LB-16795  Home Office      81001.0  TEC-MA-10001695   703.710  ...   \n",
       "10372         NaN          NaN          NaN              NaN       NaN  ...   \n",
       "\n",
       "       Discount     Profit    Customer Name           City  \\\n",
       "0          0.00    41.9136      Claire Gute      Henderson   \n",
       "1          0.50   -89.0664      Seth Vernon   Philadelphia   \n",
       "2          0.15     6.5490  Herbert Flentye    Los Angeles   \n",
       "3          0.20   -15.7176    Arthur Gainer  Coral Springs   \n",
       "4          0.00   219.5820      Claire Gute      Henderson   \n",
       "...         ...        ...              ...            ...   \n",
       "10368      0.00   648.5624        Greg Tran     Washington   \n",
       "10369      0.00  1459.2000     Mark Cousins         Mobile   \n",
       "10370      0.20     2.6892      Sean Miller         Monroe   \n",
       "10371      0.70  -938.2800   Laurel Beltran         Pueblo   \n",
       "10372       NaN        NaN              NaN     Burlington   \n",
       "\n",
       "                      State Region Country/Region         Category  \\\n",
       "0                  Kentucky  South  United States        Furniture   \n",
       "1              Pennsylvania   East  United States        Furniture   \n",
       "2                California   West  United States        Furniture   \n",
       "3                   Florida  South  United States        Furniture   \n",
       "4                  Kentucky  South  United States        Furniture   \n",
       "...                     ...    ...            ...              ...   \n",
       "10368  District of Columbia   East  United States       Technology   \n",
       "10369               Alabama  South  United States       Technology   \n",
       "10370        North Carolina  South  United States  Office Supplies   \n",
       "10371              Colorado   West  United States       Technology   \n",
       "10372               Vermont   East  United States              NaN   \n",
       "\n",
       "      Sub-Category                                       Product Name  \n",
       "0        Bookcases                  Bush Somerset Collection Bookcase  \n",
       "1        Bookcases                  Bush Somerset Collection Bookcase  \n",
       "2        Bookcases                  Bush Somerset Collection Bookcase  \n",
       "3        Bookcases                  Bush Somerset Collection Bookcase  \n",
       "4           Chairs  Hon Deluxe Fabric Upholstered Stacking Chairs,...  \n",
       "...            ...                                                ...  \n",
       "10368     Machines                     Cisco SPA525G2 5-Line IP Phone  \n",
       "10369     Machines  Hewlett-Packard Deskjet 3050a All-in-One Color...  \n",
       "10370        Paper                                         Xerox 1989  \n",
       "10371     Machines  Zebra GK420t Direct Thermal/Thermal Transfer P...  \n",
       "10372          NaN                                                NaN  \n",
       "\n",
       "[10373 rows x 21 columns]"
      ]
     },
     "execution_count": 11,
     "metadata": {},
     "output_type": "execute_result"
    }
   ],
   "source": [
    "df"
   ]
  },
  {
   "cell_type": "markdown",
   "id": "4cc04b7d",
   "metadata": {},
   "source": [
    "## Comprehensive description of the data"
   ]
  },
  {
   "cell_type": "code",
   "execution_count": 12,
   "id": "42ece028",
   "metadata": {},
   "outputs": [
    {
     "data": {
      "text/plain": [
       "(10373, 21)"
      ]
     },
     "execution_count": 12,
     "metadata": {},
     "output_type": "execute_result"
    }
   ],
   "source": [
    "df.shape"
   ]
  },
  {
   "cell_type": "code",
   "execution_count": 13,
   "id": "356e3dd5",
   "metadata": {
    "scrolled": false
   },
   "outputs": [
    {
     "name": "stdout",
     "output_type": "stream",
     "text": [
      "<class 'pandas.core.frame.DataFrame'>\n",
      "RangeIndex: 10373 entries, 0 to 10372\n",
      "Data columns (total 21 columns):\n",
      " #   Column          Non-Null Count  Dtype  \n",
      "---  ------          --------------  -----  \n",
      " 0   Row ID          10372 non-null  float64\n",
      " 1   Order ID        10372 non-null  object \n",
      " 2   Order Date      10372 non-null  object \n",
      " 3   Ship Date       10372 non-null  object \n",
      " 4   Ship Mode       10372 non-null  object \n",
      " 5   Customer ID     10372 non-null  object \n",
      " 6   Segment         10372 non-null  object \n",
      " 7   Postal Code     10372 non-null  float64\n",
      " 8   Product ID      10372 non-null  object \n",
      " 9   Sales           10372 non-null  float64\n",
      " 10  Quantity        10372 non-null  float64\n",
      " 11  Discount        10372 non-null  float64\n",
      " 12  Profit          10372 non-null  float64\n",
      " 13  Customer Name   10372 non-null  object \n",
      " 14  City            10373 non-null  object \n",
      " 15  State           10373 non-null  object \n",
      " 16  Region          10373 non-null  object \n",
      " 17  Country/Region  10373 non-null  object \n",
      " 18  Category        10372 non-null  object \n",
      " 19  Sub-Category    10372 non-null  object \n",
      " 20  Product Name    10372 non-null  object \n",
      "dtypes: float64(6), object(15)\n",
      "memory usage: 1.7+ MB\n"
     ]
    }
   ],
   "source": [
    "df.info()"
   ]
  },
  {
   "cell_type": "code",
   "execution_count": 29,
   "id": "518d2bfc",
   "metadata": {},
   "outputs": [
    {
     "data": {
      "text/plain": [
       "Row ID               1\n",
       "Order ID          5009\n",
       "Order Date        1236\n",
       "Ship Date         1334\n",
       "Ship Mode            4\n",
       "Customer ID        793\n",
       "Segment              3\n",
       "Postal Code          1\n",
       "Product ID        1862\n",
       "Sales             5825\n",
       "Quantity            14\n",
       "Discount            12\n",
       "Profit            7287\n",
       "Customer Name      793\n",
       "City               531\n",
       "State               48\n",
       "Region               4\n",
       "Country/Region       1\n",
       "Category             3\n",
       "Sub-Category        17\n",
       "Product Name      1849\n",
       "dtype: int64"
      ]
     },
     "execution_count": 29,
     "metadata": {},
     "output_type": "execute_result"
    }
   ],
   "source": [
    "df.nunique()"
   ]
  },
  {
   "cell_type": "markdown",
   "id": "48eb44a6",
   "metadata": {},
   "source": [
    "## Checking Nulls and Duplicates"
   ]
  },
  {
   "cell_type": "code",
   "execution_count": 18,
   "id": "c26fa096",
   "metadata": {
    "scrolled": true
   },
   "outputs": [
    {
     "data": {
      "text/plain": [
       "Row ID            0\n",
       "Discount          0\n",
       "Sub-Category      0\n",
       "Category          0\n",
       "Country/Region    0\n",
       "Region            0\n",
       "State             0\n",
       "City              0\n",
       "Customer Name     0\n",
       "Profit            0\n",
       "Quantity          0\n",
       "Order ID          0\n",
       "Sales             0\n",
       "Product ID        0\n",
       "Postal Code       0\n",
       "Segment           0\n",
       "Customer ID       0\n",
       "Ship Mode         0\n",
       "Ship Date         0\n",
       "Order Date        0\n",
       "Product Name      0\n",
       "dtype: int64"
      ]
     },
     "execution_count": 18,
     "metadata": {},
     "output_type": "execute_result"
    }
   ],
   "source": [
    "df.isnull().sum().sort_values(ascending=False)"
   ]
  },
  {
   "cell_type": "code",
   "execution_count": 15,
   "id": "8e5d650a",
   "metadata": {
    "scrolled": false
   },
   "outputs": [
    {
     "data": {
      "text/plain": [
       "0"
      ]
     },
     "execution_count": 15,
     "metadata": {},
     "output_type": "execute_result"
    }
   ],
   "source": [
    "df.duplicated().sum()"
   ]
  },
  {
   "cell_type": "markdown",
   "id": "ecb63448",
   "metadata": {},
   "source": [
    "## Handling the missing values"
   ]
  },
  {
   "cell_type": "code",
   "execution_count": 19,
   "id": "9c7d2777",
   "metadata": {},
   "outputs": [],
   "source": [
    "df.dropna(inplace=True)"
   ]
  },
  {
   "cell_type": "markdown",
   "id": "35cff254",
   "metadata": {},
   "source": [
    "## Fixing the data types "
   ]
  },
  {
   "cell_type": "code",
   "execution_count": 20,
   "id": "c61e7fce",
   "metadata": {},
   "outputs": [
    {
     "data": {
      "text/plain": [
       "Index(['Row ID', 'Postal Code', 'Sales', 'Quantity', 'Discount', 'Profit'], dtype='object')"
      ]
     },
     "execution_count": 20,
     "metadata": {},
     "output_type": "execute_result"
    }
   ],
   "source": [
    "numeric_columns = df.select_dtypes(include=['float64', 'int64']).columns\n",
    "numeric_columns"
   ]
  },
  {
   "cell_type": "code",
   "execution_count": 21,
   "id": "67a24e5e",
   "metadata": {},
   "outputs": [
    {
     "data": {
      "text/plain": [
       "Index(['Order ID', 'Order Date', 'Ship Date', 'Ship Mode', 'Customer ID',\n",
       "       'Segment', 'Product ID', 'Customer Name', 'City', 'State', 'Region',\n",
       "       'Country/Region', 'Category', 'Sub-Category', 'Product Name'],\n",
       "      dtype='object')"
      ]
     },
     "execution_count": 21,
     "metadata": {},
     "output_type": "execute_result"
    }
   ],
   "source": [
    "categorical_columns = df.select_dtypes(include=['object']).columns\n",
    "categorical_columns"
   ]
  },
  {
   "cell_type": "code",
   "execution_count": 22,
   "id": "7fac6cda",
   "metadata": {},
   "outputs": [
    {
     "data": {
      "text/plain": [
       "Index([], dtype='object')"
      ]
     },
     "execution_count": 22,
     "metadata": {},
     "output_type": "execute_result"
    }
   ],
   "source": [
    "datetime_columns = df.select_dtypes(include=['datetime64']).columns\n",
    "datetime_columns"
   ]
  },
  {
   "cell_type": "code",
   "execution_count": 23,
   "id": "d6c60297",
   "metadata": {},
   "outputs": [],
   "source": [
    "df['Order Date'] = pd.to_datetime(df['Order Date'], dayfirst=True)\n",
    "df['Ship Date'] = pd.to_datetime(df['Ship Date'], dayfirst=True)\n",
    "df['Row ID'] = pd.Int64Dtype()\n",
    "df['Postal Code'] = pd.Int64Dtype()"
   ]
  },
  {
   "cell_type": "markdown",
   "id": "5124c662",
   "metadata": {},
   "source": [
    "## KPIs"
   ]
  },
  {
   "cell_type": "code",
   "execution_count": 27,
   "id": "889256d7",
   "metadata": {},
   "outputs": [
    {
     "data": {
      "text/html": [
       "<div>\n",
       "<style scoped>\n",
       "    .dataframe tbody tr th:only-of-type {\n",
       "        vertical-align: middle;\n",
       "    }\n",
       "\n",
       "    .dataframe tbody tr th {\n",
       "        vertical-align: top;\n",
       "    }\n",
       "\n",
       "    .dataframe thead th {\n",
       "        text-align: right;\n",
       "    }\n",
       "</style>\n",
       "<table border=\"1\" class=\"dataframe\">\n",
       "  <thead>\n",
       "    <tr style=\"text-align: right;\">\n",
       "      <th></th>\n",
       "      <th>Sales</th>\n",
       "      <th>Quantity</th>\n",
       "      <th>Discount</th>\n",
       "      <th>Profit</th>\n",
       "    </tr>\n",
       "  </thead>\n",
       "  <tbody>\n",
       "    <tr>\n",
       "      <th>count</th>\n",
       "      <td>10372.000000</td>\n",
       "      <td>10372.000000</td>\n",
       "      <td>10372.000000</td>\n",
       "      <td>10372.000000</td>\n",
       "    </tr>\n",
       "    <tr>\n",
       "      <th>mean</th>\n",
       "      <td>231.667091</td>\n",
       "      <td>3.788083</td>\n",
       "      <td>0.155586</td>\n",
       "      <td>29.043206</td>\n",
       "    </tr>\n",
       "    <tr>\n",
       "      <th>std</th>\n",
       "      <td>619.415482</td>\n",
       "      <td>2.226934</td>\n",
       "      <td>0.205694</td>\n",
       "      <td>231.324447</td>\n",
       "    </tr>\n",
       "    <tr>\n",
       "      <th>min</th>\n",
       "      <td>0.444000</td>\n",
       "      <td>1.000000</td>\n",
       "      <td>0.000000</td>\n",
       "      <td>-6599.978000</td>\n",
       "    </tr>\n",
       "    <tr>\n",
       "      <th>25%</th>\n",
       "      <td>17.480000</td>\n",
       "      <td>2.000000</td>\n",
       "      <td>0.000000</td>\n",
       "      <td>1.770750</td>\n",
       "    </tr>\n",
       "    <tr>\n",
       "      <th>50%</th>\n",
       "      <td>55.592000</td>\n",
       "      <td>3.000000</td>\n",
       "      <td>0.200000</td>\n",
       "      <td>8.790600</td>\n",
       "    </tr>\n",
       "    <tr>\n",
       "      <th>75%</th>\n",
       "      <td>211.984500</td>\n",
       "      <td>5.000000</td>\n",
       "      <td>0.200000</td>\n",
       "      <td>30.090000</td>\n",
       "    </tr>\n",
       "    <tr>\n",
       "      <th>max</th>\n",
       "      <td>22638.480000</td>\n",
       "      <td>14.000000</td>\n",
       "      <td>0.800000</td>\n",
       "      <td>8399.976000</td>\n",
       "    </tr>\n",
       "  </tbody>\n",
       "</table>\n",
       "</div>"
      ],
      "text/plain": [
       "              Sales      Quantity      Discount        Profit\n",
       "count  10372.000000  10372.000000  10372.000000  10372.000000\n",
       "mean     231.667091      3.788083      0.155586     29.043206\n",
       "std      619.415482      2.226934      0.205694    231.324447\n",
       "min        0.444000      1.000000      0.000000  -6599.978000\n",
       "25%       17.480000      2.000000      0.000000      1.770750\n",
       "50%       55.592000      3.000000      0.200000      8.790600\n",
       "75%      211.984500      5.000000      0.200000     30.090000\n",
       "max    22638.480000     14.000000      0.800000   8399.976000"
      ]
     },
     "execution_count": 27,
     "metadata": {},
     "output_type": "execute_result"
    }
   ],
   "source": [
    "df[numeric_columns].describe()"
   ]
  },
  {
   "cell_type": "code",
   "execution_count": 31,
   "id": "f0020b94",
   "metadata": {
    "scrolled": true
   },
   "outputs": [
    {
     "data": {
      "text/html": [
       "<div>\n",
       "<style scoped>\n",
       "    .dataframe tbody tr th:only-of-type {\n",
       "        vertical-align: middle;\n",
       "    }\n",
       "\n",
       "    .dataframe tbody tr th {\n",
       "        vertical-align: top;\n",
       "    }\n",
       "\n",
       "    .dataframe thead th {\n",
       "        text-align: right;\n",
       "    }\n",
       "</style>\n",
       "<table border=\"1\" class=\"dataframe\">\n",
       "  <thead>\n",
       "    <tr style=\"text-align: right;\">\n",
       "      <th></th>\n",
       "      <th>Sales</th>\n",
       "      <th>Profit</th>\n",
       "      <th>Quantity</th>\n",
       "    </tr>\n",
       "  </thead>\n",
       "  <tbody>\n",
       "    <tr>\n",
       "      <th>max</th>\n",
       "      <td>22638.48</td>\n",
       "      <td>8399.98</td>\n",
       "      <td>14.00</td>\n",
       "    </tr>\n",
       "    <tr>\n",
       "      <th>min</th>\n",
       "      <td>0.44</td>\n",
       "      <td>-6599.98</td>\n",
       "      <td>1.00</td>\n",
       "    </tr>\n",
       "    <tr>\n",
       "      <th>mean</th>\n",
       "      <td>231.67</td>\n",
       "      <td>29.04</td>\n",
       "      <td>3.79</td>\n",
       "    </tr>\n",
       "    <tr>\n",
       "      <th>median</th>\n",
       "      <td>55.59</td>\n",
       "      <td>8.79</td>\n",
       "      <td>3.00</td>\n",
       "    </tr>\n",
       "    <tr>\n",
       "      <th>sum</th>\n",
       "      <td>2402851.07</td>\n",
       "      <td>301236.13</td>\n",
       "      <td>39290.00</td>\n",
       "    </tr>\n",
       "  </tbody>\n",
       "</table>\n",
       "</div>"
      ],
      "text/plain": [
       "             Sales     Profit  Quantity\n",
       "max       22638.48    8399.98     14.00\n",
       "min           0.44   -6599.98      1.00\n",
       "mean        231.67      29.04      3.79\n",
       "median       55.59       8.79      3.00\n",
       "sum     2402851.07  301236.13  39290.00"
      ]
     },
     "execution_count": 31,
     "metadata": {},
     "output_type": "execute_result"
    }
   ],
   "source": [
    "df[['Sales','Profit','Quantity']].agg(['max', 'min','mean','median','sum']).round(2)"
   ]
  },
  {
   "cell_type": "code",
   "execution_count": 78,
   "id": "85d4d80f",
   "metadata": {
    "scrolled": true
   },
   "outputs": [
    {
     "data": {
      "text/html": [
       "<div>\n",
       "<style scoped>\n",
       "    .dataframe tbody tr th:only-of-type {\n",
       "        vertical-align: middle;\n",
       "    }\n",
       "\n",
       "    .dataframe tbody tr th {\n",
       "        vertical-align: top;\n",
       "    }\n",
       "\n",
       "    .dataframe thead th {\n",
       "        text-align: right;\n",
       "    }\n",
       "</style>\n",
       "<table border=\"1\" class=\"dataframe\">\n",
       "  <thead>\n",
       "    <tr style=\"text-align: right;\">\n",
       "      <th></th>\n",
       "      <th></th>\n",
       "      <th>sum</th>\n",
       "      <th>mean</th>\n",
       "    </tr>\n",
       "    <tr>\n",
       "      <th>Category</th>\n",
       "      <th>Sub-Category</th>\n",
       "      <th></th>\n",
       "      <th></th>\n",
       "    </tr>\n",
       "  </thead>\n",
       "  <tbody>\n",
       "    <tr>\n",
       "      <th rowspan=\"4\" valign=\"top\">Technology</th>\n",
       "      <th>Phones</th>\n",
       "      <td>357751.9060</td>\n",
       "      <td>385.093548</td>\n",
       "    </tr>\n",
       "    <tr>\n",
       "      <th>Machines</th>\n",
       "      <td>194442.8720</td>\n",
       "      <td>1620.357267</td>\n",
       "    </tr>\n",
       "    <tr>\n",
       "      <th>Accessories</th>\n",
       "      <td>193854.2460</td>\n",
       "      <td>236.119666</td>\n",
       "    </tr>\n",
       "    <tr>\n",
       "      <th>Copiers</th>\n",
       "      <td>150728.0060</td>\n",
       "      <td>2184.463855</td>\n",
       "    </tr>\n",
       "    <tr>\n",
       "      <th rowspan=\"9\" valign=\"top\">Office Supplies</th>\n",
       "      <th>Storage</th>\n",
       "      <td>224958.5600</td>\n",
       "      <td>259.767390</td>\n",
       "    </tr>\n",
       "    <tr>\n",
       "      <th>Binders</th>\n",
       "      <td>211632.2250</td>\n",
       "      <td>134.797596</td>\n",
       "    </tr>\n",
       "    <tr>\n",
       "      <th>Appliances</th>\n",
       "      <td>109619.1330</td>\n",
       "      <td>231.263994</td>\n",
       "    </tr>\n",
       "    <tr>\n",
       "      <th>Paper</th>\n",
       "      <td>85751.9440</td>\n",
       "      <td>58.573732</td>\n",
       "    </tr>\n",
       "    <tr>\n",
       "      <th>Supplies</th>\n",
       "      <td>46685.4480</td>\n",
       "      <td>244.426429</td>\n",
       "    </tr>\n",
       "    <tr>\n",
       "      <th>Art</th>\n",
       "      <td>27482.5940</td>\n",
       "      <td>34.139868</td>\n",
       "    </tr>\n",
       "    <tr>\n",
       "      <th>Envelopes</th>\n",
       "      <td>16520.1020</td>\n",
       "      <td>64.784714</td>\n",
       "    </tr>\n",
       "    <tr>\n",
       "      <th>Labels</th>\n",
       "      <td>12536.4320</td>\n",
       "      <td>34.346389</td>\n",
       "    </tr>\n",
       "    <tr>\n",
       "      <th>Fasteners</th>\n",
       "      <td>3029.2800</td>\n",
       "      <td>13.895780</td>\n",
       "    </tr>\n",
       "    <tr>\n",
       "      <th rowspan=\"4\" valign=\"top\">Furniture</th>\n",
       "      <th>Chairs</th>\n",
       "      <td>333014.3430</td>\n",
       "      <td>524.432036</td>\n",
       "    </tr>\n",
       "    <tr>\n",
       "      <th>Tables</th>\n",
       "      <td>207938.6600</td>\n",
       "      <td>647.783988</td>\n",
       "    </tr>\n",
       "    <tr>\n",
       "      <th>Bookcases</th>\n",
       "      <td>127921.4723</td>\n",
       "      <td>535.236286</td>\n",
       "    </tr>\n",
       "    <tr>\n",
       "      <th>Furnishings</th>\n",
       "      <td>98983.8440</td>\n",
       "      <td>96.100819</td>\n",
       "    </tr>\n",
       "  </tbody>\n",
       "</table>\n",
       "</div>"
      ],
      "text/plain": [
       "                                      sum         mean\n",
       "Category        Sub-Category                          \n",
       "Technology      Phones        357751.9060   385.093548\n",
       "                Machines      194442.8720  1620.357267\n",
       "                Accessories   193854.2460   236.119666\n",
       "                Copiers       150728.0060  2184.463855\n",
       "Office Supplies Storage       224958.5600   259.767390\n",
       "                Binders       211632.2250   134.797596\n",
       "                Appliances    109619.1330   231.263994\n",
       "                Paper          85751.9440    58.573732\n",
       "                Supplies       46685.4480   244.426429\n",
       "                Art            27482.5940    34.139868\n",
       "                Envelopes      16520.1020    64.784714\n",
       "                Labels         12536.4320    34.346389\n",
       "                Fasteners       3029.2800    13.895780\n",
       "Furniture       Chairs        333014.3430   524.432036\n",
       "                Tables        207938.6600   647.783988\n",
       "                Bookcases     127921.4723   535.236286\n",
       "                Furnishings    98983.8440    96.100819"
      ]
     },
     "execution_count": 78,
     "metadata": {},
     "output_type": "execute_result"
    }
   ],
   "source": [
    "df.groupby(['Category','Sub-Category'])['Sales'].agg(['sum','mean']).sort_values(by=['Category','sum'],ascending=False)"
   ]
  },
  {
   "cell_type": "markdown",
   "id": "51fbdba1",
   "metadata": {},
   "source": [
    "## Top 10 Products"
   ]
  },
  {
   "cell_type": "code",
   "execution_count": 43,
   "id": "b1db0394",
   "metadata": {},
   "outputs": [
    {
     "data": {
      "text/plain": [
       "Product Name\n",
       "Canon imageCLASS 2200 Advanced Copier                                          61599.824\n",
       "Fellowes PB500 Electric Punch Plastic Comb Binding Machine with Manual Bind    27453.384\n",
       "Cisco TelePresence System EX90 Videoconferencing Unit                          22638.480\n",
       "HON 5400 Series Task Chairs for Big and Tall                                   21870.576\n",
       "GBC DocuBind TL300 Electric Binding System                                     19823.479\n",
       "GBC Ibimaster 500 Manual ProClick Binding System                               19024.500\n",
       "Hewlett Packard LaserJet 3310 Copier                                           18839.686\n",
       "HP Designjet T520 Inkjet Large Format Printer - 24\" Color                      18374.895\n",
       "GBC DocuBind P400 Electric Binding System                                      17965.068\n",
       "High Speed Automatic Electric Letter Opener                                    17030.312\n",
       "Name: Sales, dtype: float64"
      ]
     },
     "execution_count": 43,
     "metadata": {},
     "output_type": "execute_result"
    }
   ],
   "source": [
    "df.groupby('Product Name')['Sales'].sum().sort_values(ascending=False).head(10)"
   ]
  },
  {
   "cell_type": "code",
   "execution_count": 45,
   "id": "b93bf642",
   "metadata": {
    "scrolled": true
   },
   "outputs": [
    {
     "data": {
      "text/plain": [
       "Product Name\n",
       "Canon imageCLASS 2200 Advanced Copier                                          25199.9280\n",
       "Fellowes PB500 Electric Punch Plastic Comb Binding Machine with Manual Bind     7753.0390\n",
       "Hewlett Packard LaserJet 3310 Copier                                            6983.8836\n",
       "Canon PC1060 Personal Laser Copier                                              4570.9347\n",
       "Logitech G19 Programmable Gaming Keyboard                                       4492.2978\n",
       "Plantronics Savi W720 Multi-Device Wireless Headset System                      4492.2978\n",
       "HP Designjet T520 Inkjet Large Format Printer - 24\" Color                       4094.9766\n",
       "Ativa V4110MDD Micro-Cut Shredder                                               3772.9461\n",
       "3D Systems Cube Printer, 2nd Generation, Magenta                                3717.9714\n",
       "Ibico EPK-21 Electric Binding System                                            3345.2823\n",
       "Name: Profit, dtype: float64"
      ]
     },
     "execution_count": 45,
     "metadata": {},
     "output_type": "execute_result"
    }
   ],
   "source": [
    "df.groupby('Product Name')['Profit'].sum().sort_values(ascending=False).head(10)"
   ]
  },
  {
   "cell_type": "markdown",
   "id": "a5284979",
   "metadata": {},
   "source": [
    "## Visual"
   ]
  },
  {
   "cell_type": "code",
   "execution_count": 61,
   "id": "7d53bbaa",
   "metadata": {},
   "outputs": [],
   "source": [
    "df['Order Month'] = df['Order Date'].dt.to_period('M').astype(str)\n",
    "df['Order Year'] = df['Order Date'].dt.year"
   ]
  },
  {
   "cell_type": "code",
   "execution_count": 63,
   "id": "044f1c3a",
   "metadata": {},
   "outputs": [
    {
     "data": {
      "image/png": "[encoded data removed]",
      "text/plain": [
       "<Figure size 1400x600 with 2 Axes>"
      ]
     },
     "metadata": {},
     "output_type": "display_data"
    }
   ],
   "source": [
    "monthly = df.groupby('Order Month')[['Sales', 'Profit']].sum().reset_index()\n",
    "fig, ax1 = plt.subplots(figsize=(14, 6))\n",
    "\n",
    "ax1.set_title(\"Sales and Profit Over Time\")\n",
    "ax1.set_xlabel(\"Month\")\n",
    "ax1.set_ylabel(\"Sales\", color='black')\n",
    "ax1.plot(monthly['Order Month'], monthly['Sales'], color='red', marker='o', label='Sales')\n",
    "ax1.tick_params(axis='y', labelcolor='black')\n",
    "ax1.tick_params(axis='x', rotation=45)\n",
    "\n",
    "ax2 = ax1.twinx()\n",
    "ax2.set_ylabel(\"Profit\", color='black')\n",
    "ax2.plot(monthly['Order Month'], monthly['Profit'], color='green', marker='o', label='Profit')\n",
    "ax2.tick_params(axis='y', labelcolor='black')\n",
    "\n",
    "fig.legend()\n",
    "plt.tight_layout()\n",
    "plt.show()"
   ]
  },
  {
   "cell_type": "code",
   "execution_count": 74,
   "id": "1fcceb6b",
   "metadata": {},
   "outputs": [
    {
     "name": "stderr",
     "output_type": "stream",
     "text": [
      "No artists with labels found to put in legend.  Note that artists whose label start with an underscore are ignored when legend() is called with no argument.\n"
     ]
    },
    {
     "data": {
      "image/png": "[encoded data removed]",
      "text/plain": [
       "<Figure size 640x480 with 1 Axes>"
      ]
     },
     "metadata": {},
     "output_type": "display_data"
    },
    {
     "data": {
      "text/plain": [
       "<Figure size 640x480 with 0 Axes>"
      ]
     },
     "metadata": {},
     "output_type": "display_data"
    }
   ],
   "source": [
    "plt.title(\"Title\", fontdict={'fontname': 'Comic Sans MS', 'fontsize': 18})\n",
    "plt.xlabel(\"Category\")\n",
    "plt.ylabel(\"Sales\")\n",
    "plt.bar(df.Category,df.Sales, color = \"#8f285b\" ,  width=0.4)\n",
    "plt.legend(loc = \"upper right\" , ncol = 2)\n",
    "plt.plot()\n",
    "plt.show()\n",
    "plt.savefig(\"first.jpg\" ,dpi = 500)"
   ]
  },
  {
   "cell_type": "code",
   "execution_count": 75,
   "id": "44052dd3",
   "metadata": {},
   "outputs": [
    {
     "name": "stderr",
     "output_type": "stream",
     "text": [
      "No artists with labels found to put in legend.  Note that artists whose label start with an underscore are ignored when legend() is called with no argument.\n"
     ]
    },
    {
     "data": {
      "image/png": "[encoded data removed]",
      "text/plain": [
       "<Figure size 1000x600 with 1 Axes>"
      ]
     },
     "metadata": {},
     "output_type": "display_data"
    }
   ],
   "source": [
    "plt.figure(figsize=(10, 6))\n",
    "plt.barh(df['Sub-Category'], df.Sales, color=\"#8f285b\", height=0.4)\n",
    "plt.title(\"Title\", fontdict={'fontname': 'Comic Sans MS', 'fontsize': 18})\n",
    "plt.xlabel(\"Sales\")\n",
    "plt.ylabel(\"Sub Category\")\n",
    "plt.legend(loc=\"upper right\", ncol=2)\n",
    "\n",
    "plt.tight_layout()\n",
    "plt.show()"
   ]
  },
  {
   "cell_type": "code",
   "execution_count": 76,
   "id": "9b4a1668",
   "metadata": {},
   "outputs": [
    {
     "name": "stderr",
     "output_type": "stream",
     "text": [
      "No artists with labels found to put in legend.  Note that artists whose label start with an underscore are ignored when legend() is called with no argument.\n"
     ]
    },
    {
     "data": {
      "image/png": "[encoded data removed]",
      "text/plain": [
       "<Figure size 640x480 with 1 Axes>"
      ]
     },
     "metadata": {},
     "output_type": "display_data"
    }
   ],
   "source": [
    "plt.scatter(df.Sales, df.Profit, color='blue', marker='o')\n",
    "plt.title(\"Title\")\n",
    "plt.legend()\n",
    "plt.show()"
   ]
  },
  {
   "cell_type": "code",
   "execution_count": null,
   "id": "75d342cf",
   "metadata": {},
   "outputs": [],
   "source": []
  }
 ],
 "metadata": {
  "kernelspec": {
   "display_name": "Python 3 (ipykernel)",
   "language": "python",
   "name": "python3"
  },
  "language_info": {
   "codemirror_mode": {
    "name": "ipython",
    "version": 3
   },
   "file_extension": ".py",
   "mimetype": "text/x-python",
   "name": "python",
   "nbconvert_exporter": "python",
   "pygments_lexer": "ipython3",
   "version": "3.11.2"
  },
  "varInspector": {
   "cols": {
    "lenName": 16,
    "lenType": 16,
    "lenVar": 40
   },
   "kernels_config": {
    "python": {
     "delete_cmd_postfix": "",
     "delete_cmd_prefix": "del ",
     "library": "var_list.py",
     "varRefreshCmd": "print(var_dic_list())"
    },
    "r": {
     "delete_cmd_postfix": ") ",
     "delete_cmd_prefix": "rm(",
     "library": "var_list.r",
     "varRefreshCmd": "cat(var_dic_list()) "
    }
   },
   "types_to_exclude": [
    "module",
    "function",
    "builtin_function_or_method",
    "instance",
    "_Feature"
   ],
   "window_display": false
  }
 },
 "nbformat": 4,
 "nbformat_minor": 5
}
